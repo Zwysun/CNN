{
  "nbformat": 4,
  "nbformat_minor": 0,
  "metadata": {
    "colab": {
      "name": "MNIST+mynet_0731.ipynb",
      "provenance": [],
      "collapsed_sections": [
        "uw9RCO1eiI3E",
        "5jzvTGbnL-_J"
      ]
    },
    "kernelspec": {
      "name": "python3",
      "display_name": "Python 3"
    },
    "widgets": {
      "application/vnd.jupyter.widget-state+json": {
        "75ad4f228e624ec8812447e49eeadea7": {
          "model_module": "@jupyter-widgets/controls",
          "model_name": "HBoxModel",
          "state": {
            "_view_name": "HBoxView",
            "_dom_classes": [],
            "_model_name": "HBoxModel",
            "_view_module": "@jupyter-widgets/controls",
            "_model_module_version": "1.5.0",
            "_view_count": null,
            "_view_module_version": "1.5.0",
            "box_style": "",
            "layout": "IPY_MODEL_8f41dcbf796f4533a091795cdeb7fca4",
            "_model_module": "@jupyter-widgets/controls",
            "children": [
              "IPY_MODEL_d539ee359d8646768286235686f17b92",
              "IPY_MODEL_234bcca996d24fb49776a4db4466f253"
            ]
          }
        },
        "8f41dcbf796f4533a091795cdeb7fca4": {
          "model_module": "@jupyter-widgets/base",
          "model_name": "LayoutModel",
          "state": {
            "_view_name": "LayoutView",
            "grid_template_rows": null,
            "right": null,
            "justify_content": null,
            "_view_module": "@jupyter-widgets/base",
            "overflow": null,
            "_model_module_version": "1.2.0",
            "_view_count": null,
            "flex_flow": null,
            "width": null,
            "min_width": null,
            "border": null,
            "align_items": null,
            "bottom": null,
            "_model_module": "@jupyter-widgets/base",
            "top": null,
            "grid_column": null,
            "overflow_y": null,
            "overflow_x": null,
            "grid_auto_flow": null,
            "grid_area": null,
            "grid_template_columns": null,
            "flex": null,
            "_model_name": "LayoutModel",
            "justify_items": null,
            "grid_row": null,
            "max_height": null,
            "align_content": null,
            "visibility": null,
            "align_self": null,
            "height": null,
            "min_height": null,
            "padding": null,
            "grid_auto_rows": null,
            "grid_gap": null,
            "max_width": null,
            "order": null,
            "_view_module_version": "1.2.0",
            "grid_template_areas": null,
            "object_position": null,
            "object_fit": null,
            "grid_auto_columns": null,
            "margin": null,
            "display": null,
            "left": null
          }
        },
        "d539ee359d8646768286235686f17b92": {
          "model_module": "@jupyter-widgets/controls",
          "model_name": "FloatProgressModel",
          "state": {
            "_view_name": "ProgressView",
            "style": "IPY_MODEL_7a87e495805d43c4802b00b9bee16f6e",
            "_dom_classes": [],
            "description": "",
            "_model_name": "FloatProgressModel",
            "bar_style": "info",
            "max": 1,
            "_view_module": "@jupyter-widgets/controls",
            "_model_module_version": "1.5.0",
            "value": 1,
            "_view_count": null,
            "_view_module_version": "1.5.0",
            "orientation": "horizontal",
            "min": 0,
            "description_tooltip": null,
            "_model_module": "@jupyter-widgets/controls",
            "layout": "IPY_MODEL_15649c9db65342559d59b4bceb4a43b5"
          }
        },
        "234bcca996d24fb49776a4db4466f253": {
          "model_module": "@jupyter-widgets/controls",
          "model_name": "HTMLModel",
          "state": {
            "_view_name": "HTMLView",
            "style": "IPY_MODEL_ab8a85349b5f4f04a1ca1e2b9b3434ce",
            "_dom_classes": [],
            "description": "",
            "_model_name": "HTMLModel",
            "placeholder": "​",
            "_view_module": "@jupyter-widgets/controls",
            "_model_module_version": "1.5.0",
            "value": " 9920512/? [00:20&lt;00:00, 817163.13it/s]",
            "_view_count": null,
            "_view_module_version": "1.5.0",
            "description_tooltip": null,
            "_model_module": "@jupyter-widgets/controls",
            "layout": "IPY_MODEL_fd1c81527e7241e1a62584993736c605"
          }
        },
        "7a87e495805d43c4802b00b9bee16f6e": {
          "model_module": "@jupyter-widgets/controls",
          "model_name": "ProgressStyleModel",
          "state": {
            "_view_name": "StyleView",
            "_model_name": "ProgressStyleModel",
            "description_width": "initial",
            "_view_module": "@jupyter-widgets/base",
            "_model_module_version": "1.5.0",
            "_view_count": null,
            "_view_module_version": "1.2.0",
            "bar_color": null,
            "_model_module": "@jupyter-widgets/controls"
          }
        },
        "15649c9db65342559d59b4bceb4a43b5": {
          "model_module": "@jupyter-widgets/base",
          "model_name": "LayoutModel",
          "state": {
            "_view_name": "LayoutView",
            "grid_template_rows": null,
            "right": null,
            "justify_content": null,
            "_view_module": "@jupyter-widgets/base",
            "overflow": null,
            "_model_module_version": "1.2.0",
            "_view_count": null,
            "flex_flow": null,
            "width": null,
            "min_width": null,
            "border": null,
            "align_items": null,
            "bottom": null,
            "_model_module": "@jupyter-widgets/base",
            "top": null,
            "grid_column": null,
            "overflow_y": null,
            "overflow_x": null,
            "grid_auto_flow": null,
            "grid_area": null,
            "grid_template_columns": null,
            "flex": null,
            "_model_name": "LayoutModel",
            "justify_items": null,
            "grid_row": null,
            "max_height": null,
            "align_content": null,
            "visibility": null,
            "align_self": null,
            "height": null,
            "min_height": null,
            "padding": null,
            "grid_auto_rows": null,
            "grid_gap": null,
            "max_width": null,
            "order": null,
            "_view_module_version": "1.2.0",
            "grid_template_areas": null,
            "object_position": null,
            "object_fit": null,
            "grid_auto_columns": null,
            "margin": null,
            "display": null,
            "left": null
          }
        },
        "ab8a85349b5f4f04a1ca1e2b9b3434ce": {
          "model_module": "@jupyter-widgets/controls",
          "model_name": "DescriptionStyleModel",
          "state": {
            "_view_name": "StyleView",
            "_model_name": "DescriptionStyleModel",
            "description_width": "",
            "_view_module": "@jupyter-widgets/base",
            "_model_module_version": "1.5.0",
            "_view_count": null,
            "_view_module_version": "1.2.0",
            "_model_module": "@jupyter-widgets/controls"
          }
        },
        "fd1c81527e7241e1a62584993736c605": {
          "model_module": "@jupyter-widgets/base",
          "model_name": "LayoutModel",
          "state": {
            "_view_name": "LayoutView",
            "grid_template_rows": null,
            "right": null,
            "justify_content": null,
            "_view_module": "@jupyter-widgets/base",
            "overflow": null,
            "_model_module_version": "1.2.0",
            "_view_count": null,
            "flex_flow": null,
            "width": null,
            "min_width": null,
            "border": null,
            "align_items": null,
            "bottom": null,
            "_model_module": "@jupyter-widgets/base",
            "top": null,
            "grid_column": null,
            "overflow_y": null,
            "overflow_x": null,
            "grid_auto_flow": null,
            "grid_area": null,
            "grid_template_columns": null,
            "flex": null,
            "_model_name": "LayoutModel",
            "justify_items": null,
            "grid_row": null,
            "max_height": null,
            "align_content": null,
            "visibility": null,
            "align_self": null,
            "height": null,
            "min_height": null,
            "padding": null,
            "grid_auto_rows": null,
            "grid_gap": null,
            "max_width": null,
            "order": null,
            "_view_module_version": "1.2.0",
            "grid_template_areas": null,
            "object_position": null,
            "object_fit": null,
            "grid_auto_columns": null,
            "margin": null,
            "display": null,
            "left": null
          }
        },
        "e8c492afaefa4f689c168faaeaafb710": {
          "model_module": "@jupyter-widgets/controls",
          "model_name": "HBoxModel",
          "state": {
            "_view_name": "HBoxView",
            "_dom_classes": [],
            "_model_name": "HBoxModel",
            "_view_module": "@jupyter-widgets/controls",
            "_model_module_version": "1.5.0",
            "_view_count": null,
            "_view_module_version": "1.5.0",
            "box_style": "",
            "layout": "IPY_MODEL_8843eb71a21a4ab882459d21afe2984b",
            "_model_module": "@jupyter-widgets/controls",
            "children": [
              "IPY_MODEL_dd370b671d774a0f9be5c4dfdb34592b",
              "IPY_MODEL_857ee6054bef4bf0ad0d8f257c6d4c29"
            ]
          }
        },
        "8843eb71a21a4ab882459d21afe2984b": {
          "model_module": "@jupyter-widgets/base",
          "model_name": "LayoutModel",
          "state": {
            "_view_name": "LayoutView",
            "grid_template_rows": null,
            "right": null,
            "justify_content": null,
            "_view_module": "@jupyter-widgets/base",
            "overflow": null,
            "_model_module_version": "1.2.0",
            "_view_count": null,
            "flex_flow": null,
            "width": null,
            "min_width": null,
            "border": null,
            "align_items": null,
            "bottom": null,
            "_model_module": "@jupyter-widgets/base",
            "top": null,
            "grid_column": null,
            "overflow_y": null,
            "overflow_x": null,
            "grid_auto_flow": null,
            "grid_area": null,
            "grid_template_columns": null,
            "flex": null,
            "_model_name": "LayoutModel",
            "justify_items": null,
            "grid_row": null,
            "max_height": null,
            "align_content": null,
            "visibility": null,
            "align_self": null,
            "height": null,
            "min_height": null,
            "padding": null,
            "grid_auto_rows": null,
            "grid_gap": null,
            "max_width": null,
            "order": null,
            "_view_module_version": "1.2.0",
            "grid_template_areas": null,
            "object_position": null,
            "object_fit": null,
            "grid_auto_columns": null,
            "margin": null,
            "display": null,
            "left": null
          }
        },
        "dd370b671d774a0f9be5c4dfdb34592b": {
          "model_module": "@jupyter-widgets/controls",
          "model_name": "FloatProgressModel",
          "state": {
            "_view_name": "ProgressView",
            "style": "IPY_MODEL_63449106cd5f40ee867efdba92de8ef3",
            "_dom_classes": [],
            "description": "",
            "_model_name": "FloatProgressModel",
            "bar_style": "success",
            "max": 1,
            "_view_module": "@jupyter-widgets/controls",
            "_model_module_version": "1.5.0",
            "value": 1,
            "_view_count": null,
            "_view_module_version": "1.5.0",
            "orientation": "horizontal",
            "min": 0,
            "description_tooltip": null,
            "_model_module": "@jupyter-widgets/controls",
            "layout": "IPY_MODEL_0f0f384f25f446a2a3becb379094ffd8"
          }
        },
        "857ee6054bef4bf0ad0d8f257c6d4c29": {
          "model_module": "@jupyter-widgets/controls",
          "model_name": "HTMLModel",
          "state": {
            "_view_name": "HTMLView",
            "style": "IPY_MODEL_1169170385524899ad501181bbccc9f2",
            "_dom_classes": [],
            "description": "",
            "_model_name": "HTMLModel",
            "placeholder": "​",
            "_view_module": "@jupyter-widgets/controls",
            "_model_module_version": "1.5.0",
            "value": " 32768/? [00:00&lt;00:00, 103220.91it/s]",
            "_view_count": null,
            "_view_module_version": "1.5.0",
            "description_tooltip": null,
            "_model_module": "@jupyter-widgets/controls",
            "layout": "IPY_MODEL_00dd7bc6d93c472fb90db1e0bffd829a"
          }
        },
        "63449106cd5f40ee867efdba92de8ef3": {
          "model_module": "@jupyter-widgets/controls",
          "model_name": "ProgressStyleModel",
          "state": {
            "_view_name": "StyleView",
            "_model_name": "ProgressStyleModel",
            "description_width": "initial",
            "_view_module": "@jupyter-widgets/base",
            "_model_module_version": "1.5.0",
            "_view_count": null,
            "_view_module_version": "1.2.0",
            "bar_color": null,
            "_model_module": "@jupyter-widgets/controls"
          }
        },
        "0f0f384f25f446a2a3becb379094ffd8": {
          "model_module": "@jupyter-widgets/base",
          "model_name": "LayoutModel",
          "state": {
            "_view_name": "LayoutView",
            "grid_template_rows": null,
            "right": null,
            "justify_content": null,
            "_view_module": "@jupyter-widgets/base",
            "overflow": null,
            "_model_module_version": "1.2.0",
            "_view_count": null,
            "flex_flow": null,
            "width": null,
            "min_width": null,
            "border": null,
            "align_items": null,
            "bottom": null,
            "_model_module": "@jupyter-widgets/base",
            "top": null,
            "grid_column": null,
            "overflow_y": null,
            "overflow_x": null,
            "grid_auto_flow": null,
            "grid_area": null,
            "grid_template_columns": null,
            "flex": null,
            "_model_name": "LayoutModel",
            "justify_items": null,
            "grid_row": null,
            "max_height": null,
            "align_content": null,
            "visibility": null,
            "align_self": null,
            "height": null,
            "min_height": null,
            "padding": null,
            "grid_auto_rows": null,
            "grid_gap": null,
            "max_width": null,
            "order": null,
            "_view_module_version": "1.2.0",
            "grid_template_areas": null,
            "object_position": null,
            "object_fit": null,
            "grid_auto_columns": null,
            "margin": null,
            "display": null,
            "left": null
          }
        },
        "1169170385524899ad501181bbccc9f2": {
          "model_module": "@jupyter-widgets/controls",
          "model_name": "DescriptionStyleModel",
          "state": {
            "_view_name": "StyleView",
            "_model_name": "DescriptionStyleModel",
            "description_width": "",
            "_view_module": "@jupyter-widgets/base",
            "_model_module_version": "1.5.0",
            "_view_count": null,
            "_view_module_version": "1.2.0",
            "_model_module": "@jupyter-widgets/controls"
          }
        },
        "00dd7bc6d93c472fb90db1e0bffd829a": {
          "model_module": "@jupyter-widgets/base",
          "model_name": "LayoutModel",
          "state": {
            "_view_name": "LayoutView",
            "grid_template_rows": null,
            "right": null,
            "justify_content": null,
            "_view_module": "@jupyter-widgets/base",
            "overflow": null,
            "_model_module_version": "1.2.0",
            "_view_count": null,
            "flex_flow": null,
            "width": null,
            "min_width": null,
            "border": null,
            "align_items": null,
            "bottom": null,
            "_model_module": "@jupyter-widgets/base",
            "top": null,
            "grid_column": null,
            "overflow_y": null,
            "overflow_x": null,
            "grid_auto_flow": null,
            "grid_area": null,
            "grid_template_columns": null,
            "flex": null,
            "_model_name": "LayoutModel",
            "justify_items": null,
            "grid_row": null,
            "max_height": null,
            "align_content": null,
            "visibility": null,
            "align_self": null,
            "height": null,
            "min_height": null,
            "padding": null,
            "grid_auto_rows": null,
            "grid_gap": null,
            "max_width": null,
            "order": null,
            "_view_module_version": "1.2.0",
            "grid_template_areas": null,
            "object_position": null,
            "object_fit": null,
            "grid_auto_columns": null,
            "margin": null,
            "display": null,
            "left": null
          }
        },
        "56d6222587364888838daf568f3173aa": {
          "model_module": "@jupyter-widgets/controls",
          "model_name": "HBoxModel",
          "state": {
            "_view_name": "HBoxView",
            "_dom_classes": [],
            "_model_name": "HBoxModel",
            "_view_module": "@jupyter-widgets/controls",
            "_model_module_version": "1.5.0",
            "_view_count": null,
            "_view_module_version": "1.5.0",
            "box_style": "",
            "layout": "IPY_MODEL_c6245702bae747b0a8785303ca21c769",
            "_model_module": "@jupyter-widgets/controls",
            "children": [
              "IPY_MODEL_5d2c69aaa0114129a10b9a6d243d91a4",
              "IPY_MODEL_3c14e381e1864334a11d2baa07c5b9f2"
            ]
          }
        },
        "c6245702bae747b0a8785303ca21c769": {
          "model_module": "@jupyter-widgets/base",
          "model_name": "LayoutModel",
          "state": {
            "_view_name": "LayoutView",
            "grid_template_rows": null,
            "right": null,
            "justify_content": null,
            "_view_module": "@jupyter-widgets/base",
            "overflow": null,
            "_model_module_version": "1.2.0",
            "_view_count": null,
            "flex_flow": null,
            "width": null,
            "min_width": null,
            "border": null,
            "align_items": null,
            "bottom": null,
            "_model_module": "@jupyter-widgets/base",
            "top": null,
            "grid_column": null,
            "overflow_y": null,
            "overflow_x": null,
            "grid_auto_flow": null,
            "grid_area": null,
            "grid_template_columns": null,
            "flex": null,
            "_model_name": "LayoutModel",
            "justify_items": null,
            "grid_row": null,
            "max_height": null,
            "align_content": null,
            "visibility": null,
            "align_self": null,
            "height": null,
            "min_height": null,
            "padding": null,
            "grid_auto_rows": null,
            "grid_gap": null,
            "max_width": null,
            "order": null,
            "_view_module_version": "1.2.0",
            "grid_template_areas": null,
            "object_position": null,
            "object_fit": null,
            "grid_auto_columns": null,
            "margin": null,
            "display": null,
            "left": null
          }
        },
        "5d2c69aaa0114129a10b9a6d243d91a4": {
          "model_module": "@jupyter-widgets/controls",
          "model_name": "FloatProgressModel",
          "state": {
            "_view_name": "ProgressView",
            "style": "IPY_MODEL_28b4d8772f424787a84eba60e3c44832",
            "_dom_classes": [],
            "description": "",
            "_model_name": "FloatProgressModel",
            "bar_style": "info",
            "max": 1,
            "_view_module": "@jupyter-widgets/controls",
            "_model_module_version": "1.5.0",
            "value": 1,
            "_view_count": null,
            "_view_module_version": "1.5.0",
            "orientation": "horizontal",
            "min": 0,
            "description_tooltip": null,
            "_model_module": "@jupyter-widgets/controls",
            "layout": "IPY_MODEL_72413ae56a2346d7968ef40db347f761"
          }
        },
        "3c14e381e1864334a11d2baa07c5b9f2": {
          "model_module": "@jupyter-widgets/controls",
          "model_name": "HTMLModel",
          "state": {
            "_view_name": "HTMLView",
            "style": "IPY_MODEL_2ea7f0ea09a04dfa9c3125c5062f497b",
            "_dom_classes": [],
            "description": "",
            "_model_name": "HTMLModel",
            "placeholder": "​",
            "_view_module": "@jupyter-widgets/controls",
            "_model_module_version": "1.5.0",
            "value": " 1654784/? [00:18&lt;00:00, 480934.29it/s]",
            "_view_count": null,
            "_view_module_version": "1.5.0",
            "description_tooltip": null,
            "_model_module": "@jupyter-widgets/controls",
            "layout": "IPY_MODEL_fdbae6492fac4500a8bda26b69e53c1c"
          }
        },
        "28b4d8772f424787a84eba60e3c44832": {
          "model_module": "@jupyter-widgets/controls",
          "model_name": "ProgressStyleModel",
          "state": {
            "_view_name": "StyleView",
            "_model_name": "ProgressStyleModel",
            "description_width": "initial",
            "_view_module": "@jupyter-widgets/base",
            "_model_module_version": "1.5.0",
            "_view_count": null,
            "_view_module_version": "1.2.0",
            "bar_color": null,
            "_model_module": "@jupyter-widgets/controls"
          }
        },
        "72413ae56a2346d7968ef40db347f761": {
          "model_module": "@jupyter-widgets/base",
          "model_name": "LayoutModel",
          "state": {
            "_view_name": "LayoutView",
            "grid_template_rows": null,
            "right": null,
            "justify_content": null,
            "_view_module": "@jupyter-widgets/base",
            "overflow": null,
            "_model_module_version": "1.2.0",
            "_view_count": null,
            "flex_flow": null,
            "width": null,
            "min_width": null,
            "border": null,
            "align_items": null,
            "bottom": null,
            "_model_module": "@jupyter-widgets/base",
            "top": null,
            "grid_column": null,
            "overflow_y": null,
            "overflow_x": null,
            "grid_auto_flow": null,
            "grid_area": null,
            "grid_template_columns": null,
            "flex": null,
            "_model_name": "LayoutModel",
            "justify_items": null,
            "grid_row": null,
            "max_height": null,
            "align_content": null,
            "visibility": null,
            "align_self": null,
            "height": null,
            "min_height": null,
            "padding": null,
            "grid_auto_rows": null,
            "grid_gap": null,
            "max_width": null,
            "order": null,
            "_view_module_version": "1.2.0",
            "grid_template_areas": null,
            "object_position": null,
            "object_fit": null,
            "grid_auto_columns": null,
            "margin": null,
            "display": null,
            "left": null
          }
        },
        "2ea7f0ea09a04dfa9c3125c5062f497b": {
          "model_module": "@jupyter-widgets/controls",
          "model_name": "DescriptionStyleModel",
          "state": {
            "_view_name": "StyleView",
            "_model_name": "DescriptionStyleModel",
            "description_width": "",
            "_view_module": "@jupyter-widgets/base",
            "_model_module_version": "1.5.0",
            "_view_count": null,
            "_view_module_version": "1.2.0",
            "_model_module": "@jupyter-widgets/controls"
          }
        },
        "fdbae6492fac4500a8bda26b69e53c1c": {
          "model_module": "@jupyter-widgets/base",
          "model_name": "LayoutModel",
          "state": {
            "_view_name": "LayoutView",
            "grid_template_rows": null,
            "right": null,
            "justify_content": null,
            "_view_module": "@jupyter-widgets/base",
            "overflow": null,
            "_model_module_version": "1.2.0",
            "_view_count": null,
            "flex_flow": null,
            "width": null,
            "min_width": null,
            "border": null,
            "align_items": null,
            "bottom": null,
            "_model_module": "@jupyter-widgets/base",
            "top": null,
            "grid_column": null,
            "overflow_y": null,
            "overflow_x": null,
            "grid_auto_flow": null,
            "grid_area": null,
            "grid_template_columns": null,
            "flex": null,
            "_model_name": "LayoutModel",
            "justify_items": null,
            "grid_row": null,
            "max_height": null,
            "align_content": null,
            "visibility": null,
            "align_self": null,
            "height": null,
            "min_height": null,
            "padding": null,
            "grid_auto_rows": null,
            "grid_gap": null,
            "max_width": null,
            "order": null,
            "_view_module_version": "1.2.0",
            "grid_template_areas": null,
            "object_position": null,
            "object_fit": null,
            "grid_auto_columns": null,
            "margin": null,
            "display": null,
            "left": null
          }
        },
        "1b645e9b80b4454abcc95511d56e6479": {
          "model_module": "@jupyter-widgets/controls",
          "model_name": "HBoxModel",
          "state": {
            "_view_name": "HBoxView",
            "_dom_classes": [],
            "_model_name": "HBoxModel",
            "_view_module": "@jupyter-widgets/controls",
            "_model_module_version": "1.5.0",
            "_view_count": null,
            "_view_module_version": "1.5.0",
            "box_style": "",
            "layout": "IPY_MODEL_7cac6d81519f43af9b65dcfe536f87da",
            "_model_module": "@jupyter-widgets/controls",
            "children": [
              "IPY_MODEL_9c09f2d3c90a48dfafede19bc06564e2",
              "IPY_MODEL_3003f832d00141a8ad7b1351d215f309"
            ]
          }
        },
        "7cac6d81519f43af9b65dcfe536f87da": {
          "model_module": "@jupyter-widgets/base",
          "model_name": "LayoutModel",
          "state": {
            "_view_name": "LayoutView",
            "grid_template_rows": null,
            "right": null,
            "justify_content": null,
            "_view_module": "@jupyter-widgets/base",
            "overflow": null,
            "_model_module_version": "1.2.0",
            "_view_count": null,
            "flex_flow": null,
            "width": null,
            "min_width": null,
            "border": null,
            "align_items": null,
            "bottom": null,
            "_model_module": "@jupyter-widgets/base",
            "top": null,
            "grid_column": null,
            "overflow_y": null,
            "overflow_x": null,
            "grid_auto_flow": null,
            "grid_area": null,
            "grid_template_columns": null,
            "flex": null,
            "_model_name": "LayoutModel",
            "justify_items": null,
            "grid_row": null,
            "max_height": null,
            "align_content": null,
            "visibility": null,
            "align_self": null,
            "height": null,
            "min_height": null,
            "padding": null,
            "grid_auto_rows": null,
            "grid_gap": null,
            "max_width": null,
            "order": null,
            "_view_module_version": "1.2.0",
            "grid_template_areas": null,
            "object_position": null,
            "object_fit": null,
            "grid_auto_columns": null,
            "margin": null,
            "display": null,
            "left": null
          }
        },
        "9c09f2d3c90a48dfafede19bc06564e2": {
          "model_module": "@jupyter-widgets/controls",
          "model_name": "FloatProgressModel",
          "state": {
            "_view_name": "ProgressView",
            "style": "IPY_MODEL_c22b810001a14e23b66b529b89e41680",
            "_dom_classes": [],
            "description": "",
            "_model_name": "FloatProgressModel",
            "bar_style": "success",
            "max": 1,
            "_view_module": "@jupyter-widgets/controls",
            "_model_module_version": "1.5.0",
            "value": 1,
            "_view_count": null,
            "_view_module_version": "1.5.0",
            "orientation": "horizontal",
            "min": 0,
            "description_tooltip": null,
            "_model_module": "@jupyter-widgets/controls",
            "layout": "IPY_MODEL_32de64c97b5f4c5aa1c689229a390a35"
          }
        },
        "3003f832d00141a8ad7b1351d215f309": {
          "model_module": "@jupyter-widgets/controls",
          "model_name": "HTMLModel",
          "state": {
            "_view_name": "HTMLView",
            "style": "IPY_MODEL_f171ae037e4e431295c47e8b1137c5b8",
            "_dom_classes": [],
            "description": "",
            "_model_name": "HTMLModel",
            "placeholder": "​",
            "_view_module": "@jupyter-widgets/controls",
            "_model_module_version": "1.5.0",
            "value": " 8192/? [00:03&lt;00:00, 2100.84it/s]",
            "_view_count": null,
            "_view_module_version": "1.5.0",
            "description_tooltip": null,
            "_model_module": "@jupyter-widgets/controls",
            "layout": "IPY_MODEL_ff4ff22c38dd4fadafe50302b15b154c"
          }
        },
        "c22b810001a14e23b66b529b89e41680": {
          "model_module": "@jupyter-widgets/controls",
          "model_name": "ProgressStyleModel",
          "state": {
            "_view_name": "StyleView",
            "_model_name": "ProgressStyleModel",
            "description_width": "initial",
            "_view_module": "@jupyter-widgets/base",
            "_model_module_version": "1.5.0",
            "_view_count": null,
            "_view_module_version": "1.2.0",
            "bar_color": null,
            "_model_module": "@jupyter-widgets/controls"
          }
        },
        "32de64c97b5f4c5aa1c689229a390a35": {
          "model_module": "@jupyter-widgets/base",
          "model_name": "LayoutModel",
          "state": {
            "_view_name": "LayoutView",
            "grid_template_rows": null,
            "right": null,
            "justify_content": null,
            "_view_module": "@jupyter-widgets/base",
            "overflow": null,
            "_model_module_version": "1.2.0",
            "_view_count": null,
            "flex_flow": null,
            "width": null,
            "min_width": null,
            "border": null,
            "align_items": null,
            "bottom": null,
            "_model_module": "@jupyter-widgets/base",
            "top": null,
            "grid_column": null,
            "overflow_y": null,
            "overflow_x": null,
            "grid_auto_flow": null,
            "grid_area": null,
            "grid_template_columns": null,
            "flex": null,
            "_model_name": "LayoutModel",
            "justify_items": null,
            "grid_row": null,
            "max_height": null,
            "align_content": null,
            "visibility": null,
            "align_self": null,
            "height": null,
            "min_height": null,
            "padding": null,
            "grid_auto_rows": null,
            "grid_gap": null,
            "max_width": null,
            "order": null,
            "_view_module_version": "1.2.0",
            "grid_template_areas": null,
            "object_position": null,
            "object_fit": null,
            "grid_auto_columns": null,
            "margin": null,
            "display": null,
            "left": null
          }
        },
        "f171ae037e4e431295c47e8b1137c5b8": {
          "model_module": "@jupyter-widgets/controls",
          "model_name": "DescriptionStyleModel",
          "state": {
            "_view_name": "StyleView",
            "_model_name": "DescriptionStyleModel",
            "description_width": "",
            "_view_module": "@jupyter-widgets/base",
            "_model_module_version": "1.5.0",
            "_view_count": null,
            "_view_module_version": "1.2.0",
            "_model_module": "@jupyter-widgets/controls"
          }
        },
        "ff4ff22c38dd4fadafe50302b15b154c": {
          "model_module": "@jupyter-widgets/base",
          "model_name": "LayoutModel",
          "state": {
            "_view_name": "LayoutView",
            "grid_template_rows": null,
            "right": null,
            "justify_content": null,
            "_view_module": "@jupyter-widgets/base",
            "overflow": null,
            "_model_module_version": "1.2.0",
            "_view_count": null,
            "flex_flow": null,
            "width": null,
            "min_width": null,
            "border": null,
            "align_items": null,
            "bottom": null,
            "_model_module": "@jupyter-widgets/base",
            "top": null,
            "grid_column": null,
            "overflow_y": null,
            "overflow_x": null,
            "grid_auto_flow": null,
            "grid_area": null,
            "grid_template_columns": null,
            "flex": null,
            "_model_name": "LayoutModel",
            "justify_items": null,
            "grid_row": null,
            "max_height": null,
            "align_content": null,
            "visibility": null,
            "align_self": null,
            "height": null,
            "min_height": null,
            "padding": null,
            "grid_auto_rows": null,
            "grid_gap": null,
            "max_width": null,
            "order": null,
            "_view_module_version": "1.2.0",
            "grid_template_areas": null,
            "object_position": null,
            "object_fit": null,
            "grid_auto_columns": null,
            "margin": null,
            "display": null,
            "left": null
          }
        }
      }
    }
  },
  "cells": [
    {
      "cell_type": "markdown",
      "metadata": {
        "id": "dfsLspQHfafT",
        "colab_type": "text"
      },
      "source": [
        "## 依赖包\n",
        "<!-- **Author**: `zwy` -->\n"
      ]
    },
    {
      "cell_type": "code",
      "metadata": {
        "id": "pBncOk5bgwCo",
        "colab_type": "code",
        "colab": {}
      },
      "source": [
        "import torch\n",
        "import torch.nn as nn\n",
        "import torch.optim as optim\n",
        "from torch.optim import lr_scheduler\n",
        "import numpy as np\n",
        "import torchvision\n",
        "from torchvision import datasets, models, transforms\n",
        "import matplotlib.pyplot as plt\n",
        "import time\n",
        "import os\n",
        "import copy\n",
        "\n",
        "import random\n",
        "import shutil\n",
        "\n",
        "plt.ion()   # 交互模式可以动态显示图像"
      ],
      "execution_count": null,
      "outputs": []
    },
    {
      "cell_type": "markdown",
      "metadata": {
        "id": "o_E5YRwsN4dR",
        "colab_type": "text"
      },
      "source": [
        "### 硬件选择 GPU"
      ]
    },
    {
      "cell_type": "code",
      "metadata": {
        "id": "Na2VrBlNNcJS",
        "colab_type": "code",
        "colab": {
          "base_uri": "https://localhost:8080/",
          "height": 34
        },
        "outputId": "eb369088-168a-478e-94d5-c763ee2f061b"
      },
      "source": [
        "# GPU\n",
        "device = torch.device(\"cuda:0\" if torch.cuda.is_available() else \"cpu\")\n",
        "print(device)"
      ],
      "execution_count": null,
      "outputs": [
        {
          "output_type": "stream",
          "text": [
            "cpu\n"
          ],
          "name": "stdout"
        }
      ]
    },
    {
      "cell_type": "markdown",
      "metadata": {
        "id": "1TMlepIMhu6X",
        "colab_type": "text"
      },
      "source": [
        "## 数据加载及处理\n"
      ]
    },
    {
      "cell_type": "markdown",
      "metadata": {
        "id": "uw9RCO1eiI3E",
        "colab_type": "text"
      },
      "source": [
        "### 下载数据集\n",
        "可以从Google Drive / Github / 其他数据地址下载数据"
      ]
    },
    {
      "cell_type": "code",
      "metadata": {
        "id": "D8DmF5QPiE4l",
        "colab_type": "code",
        "colab": {
          "base_uri": "https://localhost:8080/"
        },
        "outputId": "a292ccff-87e5-4139-80fe-f45a1da073bf"
      },
      "source": [
        "!rm -rf CNN\n",
        "!git clone https://github.com/Zwysun/CNN.git\n",
        "!ls"
      ],
      "execution_count": null,
      "outputs": [
        {
          "output_type": "stream",
          "text": [
            "Cloning into 'CNN'...\n",
            "remote: Enumerating objects: 705, done.\u001b[K\n",
            "remote: Counting objects: 100% (705/705), done.\u001b[K\n",
            "remote: Compressing objects: 100% (562/562), done.\u001b[K\n",
            "remote: Total 705 (delta 163), reused 680 (delta 141), pack-reused 0\u001b[K\n",
            "Receiving objects: 100% (705/705), 31.29 MiB | 15.97 MiB/s, done.\n",
            "Resolving deltas: 100% (163/163), done.\n",
            "CNN  sample_data\n"
          ],
          "name": "stdout"
        }
      ]
    },
    {
      "cell_type": "markdown",
      "metadata": {
        "id": "T6dJNWuRiRPz",
        "colab_type": "text"
      },
      "source": [
        "### 数据预处理\n",
        "利用transforms对图片进行预处理，可以分别针对训练集和验证集采取不同的处理方法\n"
      ]
    },
    {
      "cell_type": "code",
      "metadata": {
        "id": "EA_F58qdr61W",
        "colab_type": "code",
        "colab": {
          "base_uri": "https://localhost:8080/",
          "height": 383,
          "referenced_widgets": [
            "75ad4f228e624ec8812447e49eeadea7",
            "8f41dcbf796f4533a091795cdeb7fca4",
            "d539ee359d8646768286235686f17b92",
            "234bcca996d24fb49776a4db4466f253",
            "7a87e495805d43c4802b00b9bee16f6e",
            "15649c9db65342559d59b4bceb4a43b5",
            "ab8a85349b5f4f04a1ca1e2b9b3434ce",
            "fd1c81527e7241e1a62584993736c605",
            "e8c492afaefa4f689c168faaeaafb710",
            "8843eb71a21a4ab882459d21afe2984b",
            "dd370b671d774a0f9be5c4dfdb34592b",
            "857ee6054bef4bf0ad0d8f257c6d4c29",
            "63449106cd5f40ee867efdba92de8ef3",
            "0f0f384f25f446a2a3becb379094ffd8",
            "1169170385524899ad501181bbccc9f2",
            "00dd7bc6d93c472fb90db1e0bffd829a",
            "56d6222587364888838daf568f3173aa",
            "c6245702bae747b0a8785303ca21c769",
            "5d2c69aaa0114129a10b9a6d243d91a4",
            "3c14e381e1864334a11d2baa07c5b9f2",
            "28b4d8772f424787a84eba60e3c44832",
            "72413ae56a2346d7968ef40db347f761",
            "2ea7f0ea09a04dfa9c3125c5062f497b",
            "fdbae6492fac4500a8bda26b69e53c1c",
            "1b645e9b80b4454abcc95511d56e6479",
            "7cac6d81519f43af9b65dcfe536f87da",
            "9c09f2d3c90a48dfafede19bc06564e2",
            "3003f832d00141a8ad7b1351d215f309",
            "c22b810001a14e23b66b529b89e41680",
            "32de64c97b5f4c5aa1c689229a390a35",
            "f171ae037e4e431295c47e8b1137c5b8",
            "ff4ff22c38dd4fadafe50302b15b154c"
          ]
        },
        "outputId": "de7d0d68-8125-4c31-e05e-8380c55a7c3d"
      },
      "source": [
        "# 直接加载数据集MINST\n",
        "\n",
        "# 训练集 扩充及正则化\n",
        "# 测试集 仅正则化\n",
        "\n",
        "# 图像变换操作\n",
        "data_transforms = {\n",
        "    'train': transforms.Compose([\n",
        "        # transforms.RandomResizedCrop(224),\n",
        "        # transforms.RandomHorizontalFlip(),\n",
        "        transforms.ToTensor(),\n",
        "        transforms.Normalize([0.1307], [0.3081])\n",
        "    ]),\n",
        "    'test': transforms.Compose([\n",
        "        # transforms.Resize(256),\n",
        "        # transforms.CenterCrop(224),\n",
        "        transforms.ToTensor(),\n",
        "        # transforms.Normalize([0.5], [0.5])\n",
        "        transforms.Normalize([0.1307], [0.3081])\n",
        "    ]),\n",
        "}\n",
        "\n",
        "# 下载公共数据集\n",
        "\n",
        "train_dataset = datasets.MNIST( root=\"./mnist\",  # 设置数据集的根目录\n",
        "    train=True,  # 是否是训练集\n",
        "    transform=data_transforms['train'],  # 对数据进行转换\n",
        "    download=True\n",
        "    )\n",
        "test_dataset = datasets.MNIST( root=\"./mnist\", \n",
        "    train=False,  # 测试集，所以false\n",
        "    transform=data_transforms['test'], \n",
        "    download=True\n",
        "    )\n"
      ],
      "execution_count": null,
      "outputs": [
        {
          "output_type": "stream",
          "text": [
            "Downloading http://yann.lecun.com/exdb/mnist/train-images-idx3-ubyte.gz to ./mnist/MNIST/raw/train-images-idx3-ubyte.gz\n"
          ],
          "name": "stdout"
        },
        {
          "output_type": "display_data",
          "data": {
            "application/vnd.jupyter.widget-view+json": {
              "model_id": "75ad4f228e624ec8812447e49eeadea7",
              "version_minor": 0,
              "version_major": 2
            },
            "text/plain": [
              "HBox(children=(FloatProgress(value=1.0, bar_style='info', max=1.0), HTML(value='')))"
            ]
          },
          "metadata": {
            "tags": []
          }
        },
        {
          "output_type": "stream",
          "text": [
            "Extracting ./mnist/MNIST/raw/train-images-idx3-ubyte.gz to ./mnist/MNIST/raw\n",
            "Downloading http://yann.lecun.com/exdb/mnist/train-labels-idx1-ubyte.gz to ./mnist/MNIST/raw/train-labels-idx1-ubyte.gz\n"
          ],
          "name": "stdout"
        },
        {
          "output_type": "display_data",
          "data": {
            "application/vnd.jupyter.widget-view+json": {
              "model_id": "e8c492afaefa4f689c168faaeaafb710",
              "version_minor": 0,
              "version_major": 2
            },
            "text/plain": [
              "HBox(children=(FloatProgress(value=1.0, bar_style='info', max=1.0), HTML(value='')))"
            ]
          },
          "metadata": {
            "tags": []
          }
        },
        {
          "output_type": "stream",
          "text": [
            "Extracting ./mnist/MNIST/raw/train-labels-idx1-ubyte.gz to ./mnist/MNIST/raw\n",
            "Downloading http://yann.lecun.com/exdb/mnist/t10k-images-idx3-ubyte.gz to ./mnist/MNIST/raw/t10k-images-idx3-ubyte.gz\n",
            "\n"
          ],
          "name": "stdout"
        },
        {
          "output_type": "display_data",
          "data": {
            "application/vnd.jupyter.widget-view+json": {
              "model_id": "56d6222587364888838daf568f3173aa",
              "version_minor": 0,
              "version_major": 2
            },
            "text/plain": [
              "HBox(children=(FloatProgress(value=1.0, bar_style='info', max=1.0), HTML(value='')))"
            ]
          },
          "metadata": {
            "tags": []
          }
        },
        {
          "output_type": "stream",
          "text": [
            "Extracting ./mnist/MNIST/raw/t10k-images-idx3-ubyte.gz to ./mnist/MNIST/raw\n",
            "Downloading http://yann.lecun.com/exdb/mnist/t10k-labels-idx1-ubyte.gz to ./mnist/MNIST/raw/t10k-labels-idx1-ubyte.gz\n"
          ],
          "name": "stdout"
        },
        {
          "output_type": "display_data",
          "data": {
            "application/vnd.jupyter.widget-view+json": {
              "model_id": "1b645e9b80b4454abcc95511d56e6479",
              "version_minor": 0,
              "version_major": 2
            },
            "text/plain": [
              "HBox(children=(FloatProgress(value=1.0, bar_style='info', max=1.0), HTML(value='')))"
            ]
          },
          "metadata": {
            "tags": []
          }
        },
        {
          "output_type": "stream",
          "text": [
            "Extracting ./mnist/MNIST/raw/t10k-labels-idx1-ubyte.gz to ./mnist/MNIST/raw\n",
            "Processing...\n",
            "Done!\n"
          ],
          "name": "stdout"
        },
        {
          "output_type": "stream",
          "text": [
            "/usr/local/lib/python3.6/dist-packages/torchvision/datasets/mnist.py:469: UserWarning: The given NumPy array is not writeable, and PyTorch does not support non-writeable tensors. This means you can write to the underlying (supposedly non-writeable) NumPy array using the tensor. You may want to copy the array to protect its data or make it writeable before converting it to a tensor. This type of warning will be suppressed for the rest of this program. (Triggered internally at  /pytorch/torch/csrc/utils/tensor_numpy.cpp:141.)\n",
            "  return torch.from_numpy(parsed.astype(m[2], copy=False)).view(*s)\n"
          ],
          "name": "stderr"
        }
      ]
    },
    {
      "cell_type": "code",
      "metadata": {
        "id": "tAcpOQUYXXa3",
        "colab_type": "code",
        "colab": {
          "base_uri": "https://localhost:8080/",
          "height": 336
        },
        "outputId": "86714fcc-9845-4138-f59b-0214f70bfca1"
      },
      "source": [
        "image_datasets = {'train':train_dataset, 'test':test_dataset}\n",
        "# 数据\n",
        "dataloaders = {x:torch.utils.data.DataLoader(image_datasets[x], \n",
        "                batch_size=64, shuffle=True, num_workers=4)\n",
        "                for x in ['train', 'test']}\n",
        "dataset_sizes = {x: len(image_datasets[x]) for x in ['train', 'test']}\n",
        "class_names = image_datasets['test'].classes\n",
        "print (dataset_sizes)\n",
        "print (image_datasets)\n",
        "print (class_names)"
      ],
      "execution_count": null,
      "outputs": [
        {
          "output_type": "stream",
          "text": [
            "{'train': 60000, 'test': 10000}\n",
            "{'train': Dataset MNIST\n",
            "    Number of datapoints: 60000\n",
            "    Root location: ./mnist\n",
            "    Split: Train\n",
            "    StandardTransform\n",
            "Transform: Compose(\n",
            "               ToTensor()\n",
            "               Normalize(mean=[0.1307], std=[0.3081])\n",
            "           ), 'test': Dataset MNIST\n",
            "    Number of datapoints: 10000\n",
            "    Root location: ./mnist\n",
            "    Split: Test\n",
            "    StandardTransform\n",
            "Transform: Compose(\n",
            "               ToTensor()\n",
            "               Normalize(mean=[0.1307], std=[0.3081])\n",
            "           )}\n",
            "['0 - zero', '1 - one', '2 - two', '3 - three', '4 - four', '5 - five', '6 - six', '7 - seven', '8 - eight', '9 - nine']\n"
          ],
          "name": "stdout"
        }
      ]
    },
    {
      "cell_type": "markdown",
      "metadata": {
        "id": "5jzvTGbnL-_J",
        "colab_type": "text"
      },
      "source": [
        "### 显示部分图片"
      ]
    },
    {
      "cell_type": "code",
      "metadata": {
        "id": "8pLq8lIszFCe",
        "colab_type": "code",
        "colab": {}
      },
      "source": [
        "# def imshow(inp, title=None):\n",
        "#     \"\"\"Imshow for Tensor.\"\"\"\n",
        "#     inp = inp.numpy().transpose((1, 2, 0))\n",
        "#     # mean = np.array([0.485, 0.456, 0.406])\n",
        "#     # std = np.array([0.229, 0.224, 0.225])   # RGB\n",
        "#     mean = np.array([0.1307])\n",
        "#     std = np.array([0.3081])   # 灰度图\n",
        "    \n",
        "#     inp = std * inp + mean\n",
        "#     inp = np.clip(inp, 0, 1)\n",
        "#     plt.imshow(inp)\n",
        "#     if title is not None:\n",
        "#         plt.title(title)\n",
        "#     plt.pause(0.001)  # pause a bit so that plots are updated\n",
        "\n",
        "# # Get a batch of training data\n",
        "# inputs, classes = next(iter(dataloaders['val']))\n",
        "\n",
        "# # Make a grid from batch\n",
        "# out = torchvision.utils.make_grid(inputs)\n",
        "\n",
        "# imshow(out, title=[class_names[x] for x in classes])"
      ],
      "execution_count": null,
      "outputs": []
    },
    {
      "cell_type": "markdown",
      "metadata": {
        "id": "jd-DtsaXI94V",
        "colab_type": "text"
      },
      "source": [
        "## 模型训练"
      ]
    },
    {
      "cell_type": "code",
      "metadata": {
        "id": "zt4iVySII4SK",
        "colab_type": "code",
        "colab": {}
      },
      "source": [
        "#训练过程\n",
        "def train_model(model, dataloaders, loss_function, optimizer, num_epochs=25):\n",
        "  since = time.time()\n",
        "  best_model_wts = copy.deepcopy(model.state_dict())\n",
        "  best_acc = 0.0\n",
        "  train_loader = dataloaders['train']\n",
        "  val_loader = dataloaders['test']\n",
        "\n",
        "  for epoch in range(num_epochs):\n",
        "    print('Epoch {}/{}'.format(epoch+1, num_epochs))\n",
        "    print('-' * 10)\n",
        "    # 记录把所有数据集训练+测试一遍需要多长时间\n",
        "    startTick = time.time()\n",
        "\n",
        "    model.train()\n",
        "    running_loss = 0.0\n",
        "    running_corrects = 0\n",
        "    for inputs, labels in train_loader:  # 对于训练集的每一个batch\n",
        "      inputs = inputs.to(device)\n",
        "      labels = labels.to(device)\n",
        "      \n",
        "      out = model(inputs)  # 送进网络进行输出\n",
        "      _, preds = torch.max(out, 1)\n",
        "      loss = loss_function(out, labels)  # 获得损失\n",
        "  \n",
        "      optimizer.zero_grad()  # 梯度归零\n",
        "      loss.backward()  # 反向传播获得梯度，但是参数还没有更新\n",
        "      optimizer.step()  # 更新梯度\n",
        "      # scheduler.step()  # 更新学习率\n",
        "\n",
        "      # statistics\n",
        "      running_loss += loss.item() * inputs.size(0)\n",
        "      running_corrects += torch.sum(preds == labels.data)\n",
        "    \n",
        "    epoch_loss = running_loss / dataset_sizes['train']\n",
        "    epoch_acc = running_corrects.double() / dataset_sizes['train']\n",
        "    print('{} Loss: {:.4f} Acc: {:.4f}'.format(\n",
        "                'train', epoch_loss, epoch_acc))\n",
        "\n",
        "    model.eval()\n",
        "    running_loss = 0.0\n",
        "    running_corrects = 0\n",
        "    for inputs, labels in val_loader:\n",
        "      inputs = inputs.to(device)\n",
        "      labels = labels.to(device)\n",
        "  \n",
        "      out = model(inputs)  # 获得输出\n",
        "  \n",
        "      _, preds = torch.max(out, 1)\n",
        "      loss = loss_function(out, labels)  # 获得损失\n",
        "      # torch.max()返回两个结果，\n",
        "      # 第一个是最大值，第二个是对应的索引值；\n",
        "      # 第二个参数 0 代表按列取最大值并返回对应的行索引值，1 代表按行取最大值并返回对应的列索引值。\n",
        "      # statistics\n",
        "      running_loss += loss.item() * inputs.size(0)\n",
        "      running_corrects += torch.sum(preds == labels.data)  # 找出预测和真实值相同的数量，也就是以预测正确的数量\n",
        "    \n",
        "    epoch_loss = running_loss / dataset_sizes['test']\n",
        "    epoch_acc = running_corrects.double() / dataset_sizes['test']\n",
        "    print('{} Loss: {:.4f} Acc: {:.4f}'.format('val', epoch_loss, epoch_acc))\n",
        "                \n",
        "    timeSpan = time.time() - startTick\n",
        "    print(\"Time: %dS\"%(timeSpan))\n",
        "    print()\n",
        "\n",
        "    if epoch_acc > best_acc:\n",
        "      best_acc = epoch_acc\n",
        "      best_model_wts = copy.deepcopy(model.state_dict())\n",
        "\n",
        "  time_elapsed = time.time() - since\n",
        "  print('Training complete in {:.0f}m {:.0f}s'.format(time_elapsed // 60, time_elapsed % 60))\n",
        "  print('Best val Acc: {:4f}'.format(best_acc))\n",
        "  # load best model weights\n",
        "  model.load_state_dict(best_model_wts)\n",
        "  return model"
      ],
      "execution_count": null,
      "outputs": []
    },
    {
      "cell_type": "markdown",
      "metadata": {
        "id": "I4J3qwx4zcs0",
        "colab_type": "text"
      },
      "source": [
        "## 搭建网络结构"
      ]
    },
    {
      "cell_type": "code",
      "metadata": {
        "id": "3ZsX0XY0_7ov",
        "colab_type": "code",
        "colab": {}
      },
      "source": [
        "# Some example\n",
        "\n",
        "input(28, 28, 1)\n",
        "conv(28, 28, 16)\n",
        "relu(28, 28, 16)\n",
        "pool(14, 14, 16)\n",
        "conv(14, 14, 32)\n",
        "relu(14, 14, 32)\n",
        "pool(7, 7, 32)\n",
        "fullyconn(1, 1, 10)\n",
        "softmax(1, 1, 10)"
      ],
      "execution_count": null,
      "outputs": []
    },
    {
      "cell_type": "code",
      "metadata": {
        "id": "DCl40VhFI4SY",
        "colab_type": "code",
        "colab": {
          "base_uri": "https://localhost:8080/",
          "height": 281
        },
        "outputId": "773c334a-0cac-44c2-f557-688ccbb1b6e4"
      },
      "source": [
        "# 搭建网络\n",
        "class myNet(nn.Module):\n",
        "  def __init__(self):\n",
        "    super(myNet, self).__init__()\n",
        "    self.conv1 = nn.Sequential(\n",
        "        nn.Conv2d(          #(1,28,28)\n",
        "        in_channels=1,\n",
        "        out_channels=16,\n",
        "        kernel_size=5,\n",
        "        stride=1,\n",
        "        padding=2   #padding=(kernelsize-stride)/2\n",
        "        ),#(16,28,28)\n",
        "        nn.ReLU(),\n",
        "        nn.MaxPool2d(kernel_size=2)#(16,14,14)\n",
        "        )\n",
        "    self.conv2 = nn.Sequential(#(16,14,14)\n",
        "        nn.Conv2d(16, 32, 5, 1, 2),#(32,14,14)\n",
        "        nn.ReLU(),#(32,14,14)\n",
        "        nn.MaxPool2d(2),#(32,7,7)\n",
        "        )\n",
        "    self.out = torch.nn.Sequential(\n",
        "        torch.nn.Linear(32*7*7,1024),\n",
        "        torch.nn.ReLU(),\n",
        "        # torch.nn.Dropout(p=0.5),\n",
        "        torch.nn.Linear(1024, 10))\n",
        "    # self.out = torch.nn.Linear(32*7*7,10)\n",
        "  def forward(self,x):\n",
        "    x = self.conv1(x)\n",
        "    x = self.conv2(x) #(batch,32,7,7)\n",
        "    x = x.view(x.size(0), -1) #(batch,32*7*7)\n",
        "    output = self.out(x)\n",
        "    return output\n",
        "\n",
        "# class myNet(torch.nn.Module):\n",
        "#   def __init__(self):\n",
        "#       super(myNet, self).__init__()\n",
        "#       self.conv1 = torch.nn.Sequential(\n",
        "#           torch.nn.Conv2d(1,64,kernel_size=3,stride=1,padding=1),\n",
        "#           torch.nn.ReLU(),\n",
        "#           torch.nn.Conv2d(64,128,kernel_size=3,stride=1,padding=1),\n",
        "#           torch.nn.ReLU(),\n",
        "#           torch.nn.MaxPool2d(stride=2,kernel_size=2))\n",
        "#       self.dense = torch.nn.Sequential(\n",
        "#           torch.nn.Linear(14*14*128,1024),\n",
        "#           torch.nn.ReLU(),\n",
        "#           torch.nn.Dropout(p=0.5),\n",
        "#           torch.nn.Linear(1024, 10))\n",
        "#   def forward(self, x):\n",
        "#       x = self.conv1(x)\n",
        "#       x = x.view(-1, 14*14*128)\n",
        "#       x = self.dense(x)\n",
        "#       return x\n",
        "\n",
        "# \n",
        "model_ft=myNet()\n",
        "model_ft.to(device)\n",
        "criterion = nn.CrossEntropyLoss()\n",
        "\n",
        "# Observe that all parameters are being optimized\n",
        "# optimizer_ft = optim.SGD(model_ft.parameters(), lr=0.001, momentum=0.9)\n",
        "optimizer_ft = optim.Adam(model_ft.parameters())\n",
        "\n",
        "# Decay LR by a factor of 0.1 every 7 epochs\n",
        "# exp_lr_scheduler = lr_scheduler.StepLR(optimizer_ft, step_size=7, gamma=0.1)\n",
        "\n",
        "print(model_ft)\n"
      ],
      "execution_count": null,
      "outputs": [
        {
          "output_type": "stream",
          "text": [
            "myNet(\n",
            "  (conv1): Sequential(\n",
            "    (0): Conv2d(1, 64, kernel_size=(3, 3), stride=(1, 1), padding=(1, 1))\n",
            "    (1): ReLU()\n",
            "    (2): Conv2d(64, 128, kernel_size=(3, 3), stride=(1, 1), padding=(1, 1))\n",
            "    (3): ReLU()\n",
            "    (4): MaxPool2d(kernel_size=2, stride=2, padding=0, dilation=1, ceil_mode=False)\n",
            "  )\n",
            "  (dense): Sequential(\n",
            "    (0): Linear(in_features=25088, out_features=1024, bias=True)\n",
            "    (1): ReLU()\n",
            "    (2): Dropout(p=0.5, inplace=False)\n",
            "    (3): Linear(in_features=1024, out_features=10, bias=True)\n",
            "  )\n",
            ")\n"
          ],
          "name": "stdout"
        }
      ]
    },
    {
      "cell_type": "code",
      "metadata": {
        "id": "0WQZbyfRhx_p",
        "colab_type": "code",
        "colab": {
          "base_uri": "https://localhost:8080/",
          "height": 406
        },
        "outputId": "b81e47ac-2a32-4bec-d50f-8cc90dd9304b"
      },
      "source": [
        "# 搭配下面工具，轻松实现可视化\n",
        "import torch.onnx\n",
        "from torch.autograd import Variable\n",
        "\n",
        "x = Variable(torch.randn(1, 1, 28, 28)).to(device)\n",
        "torch_out = torch.onnx.export(model_ft, x, \"test.onnx\", export_params=True, verbose=True)\n",
        "# https://lutzroeder.github.io/netron/"
      ],
      "execution_count": null,
      "outputs": [
        {
          "output_type": "stream",
          "text": [
            "graph(%input.1 : Float(1:784, 1:784, 28:28, 28:1),\n",
            "      %conv1.0.weight : Float(64:9, 1:9, 3:3, 3:1),\n",
            "      %conv1.0.bias : Float(64:1),\n",
            "      %conv1.2.weight : Float(128:576, 64:9, 3:3, 3:1),\n",
            "      %conv1.2.bias : Float(128:1),\n",
            "      %dense.0.weight : Float(1024:25088, 25088:1),\n",
            "      %dense.0.bias : Float(1024:1),\n",
            "      %dense.3.weight : Float(10:1024, 1024:1),\n",
            "      %dense.3.bias : Float(10:1)):\n",
            "  %9 : Float(1:50176, 64:784, 28:28, 28:1) = onnx::Conv[dilations=[1, 1], group=1, kernel_shape=[3, 3], pads=[1, 1, 1, 1], strides=[1, 1]](%input.1, %conv1.0.weight, %conv1.0.bias) # /usr/local/lib/python3.6/dist-packages/torch/nn/modules/conv.py:416:0\n",
            "  %10 : Float(1:50176, 64:784, 28:28, 28:1) = onnx::Relu(%9) # /usr/local/lib/python3.6/dist-packages/torch/nn/functional.py:1119:0\n",
            "  %11 : Float(1:100352, 128:784, 28:28, 28:1) = onnx::Conv[dilations=[1, 1], group=1, kernel_shape=[3, 3], pads=[1, 1, 1, 1], strides=[1, 1]](%10, %conv1.2.weight, %conv1.2.bias) # /usr/local/lib/python3.6/dist-packages/torch/nn/modules/conv.py:416:0\n",
            "  %12 : Float(1:100352, 128:784, 28:28, 28:1) = onnx::Relu(%11) # /usr/local/lib/python3.6/dist-packages/torch/nn/functional.py:1119:0\n",
            "  %13 : Float(1:25088, 128:196, 14:14, 14:1) = onnx::MaxPool[kernel_shape=[2, 2], pads=[0, 0, 0, 0], strides=[2, 2]](%12) # /usr/local/lib/python3.6/dist-packages/torch/nn/functional.py:576:0\n",
            "  %14 : Tensor = onnx::Constant[value=    -1  25088 [ CPULongType{2} ]]()\n",
            "  %15 : Float(1:25088, 25088:1) = onnx::Reshape(%13, %14) # <ipython-input-19-374527120954>:50:0\n",
            "  %16 : Float(1:1024, 1024:1) = onnx::Gemm[alpha=1., beta=1., transB=1](%15, %dense.0.weight, %dense.0.bias) # /usr/local/lib/python3.6/dist-packages/torch/nn/functional.py:1674:0\n",
            "  %17 : Float(1:1024, 1024:1) = onnx::Relu(%16) # /usr/local/lib/python3.6/dist-packages/torch/nn/functional.py:973:0\n",
            "  %18 : Float(1:10, 10:1) = onnx::Gemm[alpha=1., beta=1., transB=1](%17, %dense.3.weight, %dense.3.bias) # /usr/local/lib/python3.6/dist-packages/torch/nn/functional.py:1674:0\n",
            "  return (%18)\n",
            "\n"
          ],
          "name": "stdout"
        }
      ]
    },
    {
      "cell_type": "markdown",
      "metadata": {
        "id": "7icvKjpWzlHP",
        "colab_type": "text"
      },
      "source": [
        "## 训练"
      ]
    },
    {
      "cell_type": "code",
      "metadata": {
        "id": "k1p-HBYEzn-f",
        "colab_type": "code",
        "colab": {
          "base_uri": "https://localhost:8080/",
          "height": 554
        },
        "outputId": "d9c5d12b-107a-45db-a30a-7c5f9d325e3c"
      },
      "source": [
        "model_ft = train_model(model_ft, dataloaders, criterion, optimizer_ft, num_epochs=5)\n"
      ],
      "execution_count": null,
      "outputs": [
        {
          "output_type": "stream",
          "text": [
            "Epoch 1/5\n",
            "----------\n",
            "train Loss: 0.1192 Acc: 0.9627\n",
            "val Loss: 0.0376 Acc: 0.9880\n",
            "Time: 11S\n",
            "\n",
            "Epoch 2/5\n",
            "----------\n",
            "train Loss: 0.0383 Acc: 0.9881\n",
            "val Loss: 0.0352 Acc: 0.9881\n",
            "Time: 11S\n",
            "\n",
            "Epoch 3/5\n",
            "----------\n",
            "train Loss: 0.0278 Acc: 0.9914\n",
            "val Loss: 0.0312 Acc: 0.9903\n",
            "Time: 11S\n",
            "\n",
            "Epoch 4/5\n",
            "----------\n",
            "train Loss: 0.0216 Acc: 0.9932\n",
            "val Loss: 0.0332 Acc: 0.9897\n",
            "Time: 11S\n",
            "\n",
            "Epoch 5/5\n",
            "----------\n",
            "train Loss: 0.0159 Acc: 0.9946\n",
            "val Loss: 0.0307 Acc: 0.9892\n",
            "Time: 11S\n",
            "\n",
            "Training complete in 0m 58s\n",
            "Best val Acc: 0.990300\n"
          ],
          "name": "stdout"
        }
      ]
    },
    {
      "cell_type": "markdown",
      "metadata": {
        "id": "61mj4zcgID-1",
        "colab_type": "text"
      },
      "source": [
        "### 保存"
      ]
    },
    {
      "cell_type": "code",
      "metadata": {
        "id": "mOom8R1QVxUo",
        "colab_type": "code",
        "colab": {}
      },
      "source": [
        "# 可视化工具\n",
        "# https://lutzroeder.github.io/netron/\n",
        "os.chdir(\"/content\")\n",
        "torch.save(model_ft,'draw.pth')"
      ],
      "execution_count": null,
      "outputs": []
    },
    {
      "cell_type": "code",
      "metadata": {
        "id": "j18g8ZADJK0D",
        "colab_type": "code",
        "colab": {}
      },
      "source": [
        "# os.chdir(\"/content/drive/My Drive\")\n",
        "# !ls\n",
        "# torch.save(model_ft,'light.pth')"
      ],
      "execution_count": null,
      "outputs": []
    }
  ]
}